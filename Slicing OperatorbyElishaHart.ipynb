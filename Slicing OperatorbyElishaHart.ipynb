{
 "cells": [
  {
   "cell_type": "code",
   "execution_count": 1,
   "id": "eca14759-f845-4047-a5d4-a0d68a3aae60",
   "metadata": {},
   "outputs": [
    {
     "data": {
      "text/plain": [
       "'python'"
      ]
     },
     "execution_count": 1,
     "metadata": {},
     "output_type": "execute_result"
    }
   ],
   "source": [
    "### Slicing Operator: It returns subsequence. The types are seq[Begin:End] seq[Begin:End:Step]\n",
    "s = 'python'\n",
    "s"
   ]
  },
  {
   "cell_type": "code",
   "execution_count": 2,
   "id": "cc4eaef4-1c23-4333-baef-4fd955e3b567",
   "metadata": {},
   "outputs": [
    {
     "data": {
      "text/plain": [
       "'y'"
      ]
     },
     "execution_count": 2,
     "metadata": {},
     "output_type": "execute_result"
    }
   ],
   "source": [
    "s = 'python'\n",
    "s[1:2]"
   ]
  },
  {
   "cell_type": "code",
   "execution_count": 4,
   "id": "9a933428-a5bc-41aa-bffe-d2771b71e947",
   "metadata": {},
   "outputs": [
    {
     "data": {
      "text/plain": [
       "'python'"
      ]
     },
     "execution_count": 4,
     "metadata": {},
     "output_type": "execute_result"
    }
   ],
   "source": [
    "s = 'python'\n",
    "s[ : ]"
   ]
  },
  {
   "cell_type": "code",
   "execution_count": 5,
   "id": "1f8ee1c9-7de7-439f-abd9-27c8ee6c7fd0",
   "metadata": {},
   "outputs": [
    {
     "data": {
      "text/plain": [
       "'pyt'"
      ]
     },
     "execution_count": 5,
     "metadata": {},
     "output_type": "execute_result"
    }
   ],
   "source": [
    "s = 'python'\n",
    "s[ :3]"
   ]
  },
  {
   "cell_type": "code",
   "execution_count": 6,
   "id": "43771b0b-ccf3-4213-bf86-1b15c698d3f3",
   "metadata": {},
   "outputs": [
    {
     "data": {
      "text/plain": [
       "'hon'"
      ]
     },
     "execution_count": 6,
     "metadata": {},
     "output_type": "execute_result"
    }
   ],
   "source": [
    "s = 'python'\n",
    "s[3: ]"
   ]
  },
  {
   "cell_type": "code",
   "execution_count": 7,
   "id": "93aac8a3-5c22-4a9f-8a28-1d9a271f4a72",
   "metadata": {},
   "outputs": [
    {
     "data": {
      "text/plain": [
       "'thon'"
      ]
     },
     "execution_count": 7,
     "metadata": {},
     "output_type": "execute_result"
    }
   ],
   "source": [
    "s = 'python'\n",
    "s[-4: ]"
   ]
  },
  {
   "cell_type": "code",
   "execution_count": 8,
   "id": "44e77121-395d-4b52-9022-7522b28e356d",
   "metadata": {},
   "outputs": [
    {
     "data": {
      "text/plain": [
       "'yth'"
      ]
     },
     "execution_count": 8,
     "metadata": {},
     "output_type": "execute_result"
    }
   ],
   "source": [
    "s = 'python'\n",
    "s[-5: 4]"
   ]
  },
  {
   "cell_type": "code",
   "execution_count": 9,
   "id": "3af51c0b-5416-4459-a8ca-6ee7902fe549",
   "metadata": {},
   "outputs": [
    {
     "data": {
      "text/plain": [
       "'pytho'"
      ]
     },
     "execution_count": 9,
     "metadata": {},
     "output_type": "execute_result"
    }
   ],
   "source": [
    "s = 'python'\n",
    "s[ : -1]"
   ]
  },
  {
   "cell_type": "code",
   "execution_count": 10,
   "id": "bc4c1b94-f0c5-4b2e-a14c-b2b4f0626f79",
   "metadata": {},
   "outputs": [
    {
     "data": {
      "text/plain": [
       "'pytho'"
      ]
     },
     "execution_count": 10,
     "metadata": {},
     "output_type": "execute_result"
    }
   ],
   "source": [
    "s = 'python'\n",
    "s[-60000 : -1]"
   ]
  },
  {
   "cell_type": "code",
   "execution_count": 11,
   "id": "839934e1-17a1-432c-b435-30fa09a8bab1",
   "metadata": {},
   "outputs": [
    {
     "data": {
      "text/plain": [
       "'python'"
      ]
     },
     "execution_count": 11,
     "metadata": {},
     "output_type": "execute_result"
    }
   ],
   "source": [
    "s = 'python'\n",
    "s[0: 1000000000]"
   ]
  },
  {
   "cell_type": "code",
   "execution_count": 12,
   "id": "e0859a48-7ae0-4b3f-94c4-ab1f4a60ee6e",
   "metadata": {},
   "outputs": [
    {
     "data": {
      "text/plain": [
       "'ph'"
      ]
     },
     "execution_count": 12,
     "metadata": {},
     "output_type": "execute_result"
    }
   ],
   "source": [
    "s = 'python'\n",
    "s[ : : 3]"
   ]
  },
  {
   "cell_type": "code",
   "execution_count": 13,
   "id": "6c927eb5-5d2d-43c6-889f-1c9c3a06899a",
   "metadata": {},
   "outputs": [
    {
     "data": {
      "text/plain": [
       "'y'"
      ]
     },
     "execution_count": 13,
     "metadata": {},
     "output_type": "execute_result"
    }
   ],
   "source": [
    "s = 'python'\n",
    "s[1:3:100]"
   ]
  },
  {
   "cell_type": "code",
   "execution_count": 19,
   "id": "ef30d656-6324-4073-ab61-a7a853a49ff8",
   "metadata": {},
   "outputs": [
    {
     "data": {
      "text/plain": [
       "'thon'"
      ]
     },
     "execution_count": 19,
     "metadata": {},
     "output_type": "execute_result"
    }
   ],
   "source": [
    "s = 'python'\n",
    "s[2: 100]"
   ]
  },
  {
   "cell_type": "code",
   "execution_count": 20,
   "id": "8ea4613c-2ba3-490a-b672-1fb70edc82b2",
   "metadata": {},
   "outputs": [
    {
     "data": {
      "text/plain": [
       "'ny'"
      ]
     },
     "execution_count": 20,
     "metadata": {},
     "output_type": "execute_result"
    }
   ],
   "source": [
    "s = 'python'\n",
    "s[ : -6: -4]"
   ]
  },
  {
   "cell_type": "code",
   "execution_count": null,
   "id": "27e0d583-808f-45da-b536-b84fcd9c9bc5",
   "metadata": {},
   "outputs": [],
   "source": []
  }
 ],
 "metadata": {
  "kernelspec": {
   "display_name": "anaconda-2022.05-py39",
   "language": "python",
   "name": "conda-env-anaconda-2022.05-py39-py"
  },
  "language_info": {
   "codemirror_mode": {
    "name": "ipython",
    "version": 3
   },
   "file_extension": ".py",
   "mimetype": "text/x-python",
   "name": "python",
   "nbconvert_exporter": "python",
   "pygments_lexer": "ipython3",
   "version": "3.9.12"
  }
 },
 "nbformat": 4,
 "nbformat_minor": 5
}
